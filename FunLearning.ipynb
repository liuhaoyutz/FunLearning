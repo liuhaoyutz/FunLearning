{
 "cells": [
  {
   "cell_type": "markdown",
   "id": "911b3b37-3b29-4833-94f2-bfe47af00c83",
   "metadata": {},
   "source": [
    "# FunLearning\n",
    "\n",
    "小学6年级作文写作训练"
   ]
  },
  {
   "cell_type": "code",
   "execution_count": 1,
   "id": "d0168aee-bce9-4d60-b827-f86a88187e31",
   "metadata": {
    "height": 147
   },
   "outputs": [],
   "source": [
    "from langgraph.graph import StateGraph, END\n",
    "from typing import TypedDict, Annotated, List\n",
    "#import operator\n",
    "#from langgraph.checkpoint.sqlite import SqliteSaver\n",
    "from langchain_core.messages import AnyMessage, SystemMessage, HumanMessage, AIMessage, ChatMessage\n",
    "from langgraph.checkpoint.memory import MemorySaver\n",
    "\n",
    "#memory = SqliteSaver.from_conn_string(\":memory:\")\n",
    "memory = MemorySaver()"
   ]
  },
  {
   "cell_type": "code",
   "execution_count": 2,
   "id": "905ae7c4",
   "metadata": {},
   "outputs": [],
   "source": [
    "import getpass\n",
    "import os\n",
    "\n",
    "def _set_env(var: str):\n",
    "    if not os.environ.get(var):\n",
    "        os.environ[var]=getpass.getpass(f\"{var}: \")\n",
    "\n",
    "_set_env(\"TAVILY_API_KEY\")"
   ]
  },
  {
   "cell_type": "code",
   "execution_count": 3,
   "id": "2589c5b6-6cc2-4594-9a17-dccdcf676054",
   "metadata": {
    "height": 149
   },
   "outputs": [],
   "source": [
    "# 我们想跟踪如下信息：\n",
    "# task, 代表用户输入，要求写一篇关于什么的作文。\n",
    "# plan, LLM生成的作文提纲。\n",
    "# draft, LLM生成的作文草稿。\n",
    "# critique, LLM生成的对作文草案的改进意见。\n",
    "# content，保存Tavily搜索到的与plan或critique相关的信息，注意，content的内容是具体的信息，而不是网址链接。\n",
    "# revision_number，保存已经进行多少次修订。\n",
    "# max_revisions，保存我们最多允许进行多少次修订。\n",
    "\n",
    "# plan_node的作用： 根据task，由LLM生成作文提纲，更新plan键值。\n",
    "# research_plan_node和research_critique_node的作用： LLM生成搜索query，然后通过调用Tavily工具查找作文大纲(plan)或改进意见(critique)相关资料，更新content键值。\n",
    "# generation_node的作用： 用来由LLM生成作文草稿，更新draft和revision_number这2个键值。\n",
    "# reflection_node的作用： 由LLM针对作文草稿生成改进意见，更新critique键值。\n",
    "# 每次graph运行时，会传入用户要求写哪方面的作文，即task，更新task键值。同时也会初始化max_revisions和revision_number键值。\n",
    "\n",
    "class AgentState(TypedDict):\n",
    "    task: str\n",
    "    plan: str\n",
    "    draft: str\n",
    "    critique: str\n",
    "    content: List[str]\n",
    "    revision_number: int\n",
    "    max_revisions: int"
   ]
  },
  {
   "cell_type": "code",
   "execution_count": 4,
   "id": "a2ba84ec-c172-4de7-ac55-e3158a531b23",
   "metadata": {
    "height": 47
   },
   "outputs": [],
   "source": [
    "from langchain_openai.chat_models import ChatOpenAI\n",
    "\n",
    "model = ChatOpenAI(\n",
    "    model_name='qwen2.5:32b',\n",
    "    openai_api_base=\"http://127.0.0.1:11434/v1\",\n",
    "    openai_api_key=\"EMPTY\",\n",
    "    streaming=True\n",
    ")"
   ]
  },
  {
   "cell_type": "code",
   "execution_count": 5,
   "id": "876d5092-b8ef-4e38-b4d7-0e80c609bf7a",
   "metadata": {
    "height": 79
   },
   "outputs": [],
   "source": [
    "PLAN_PROMPT = \"\"\"你是一位小学6年级学生，男孩，擅长写作文，尤其擅长作文架构，现在你的任务是根据用户提供的作文主题，给出作文撰写提纲，并说明你这样设计作文提纲的理由。\"\"\""
   ]
  },
  {
   "cell_type": "code",
   "execution_count": 6,
   "id": "10084a02-2928-4945-9f7c-ad3f5b33caf7",
   "metadata": {
    "height": 164
   },
   "outputs": [],
   "source": [
    "WRITER_PROMPT = \"\"\"你是一位小学6年级学生，男孩，擅长写作文，现在你的任务是撰写优秀的作文。根据用户提供的作文主题和初始大纲，写出尽可能好的作文，字数在600字左右。如果用户提供改进意见，请按改进意见进行修订。需要利用所有以下信息： \n",
    "\n",
    "------\n",
    "\n",
    "{content}\"\"\""
   ]
  },
  {
   "cell_type": "code",
   "execution_count": 7,
   "id": "714d1205-f8fc-4912-b148-2a45da99219c",
   "metadata": {
    "height": 79
   },
   "outputs": [],
   "source": [
    "REFLECTION_PROMPT = \"\"\"你是一位小学6年级老师，负责批改一篇作文。请为该作文提出评价和改进建议。你的反馈应包含详细的建议，涉及作文的长度、深度、风格等方面的要求。\"\"\""
   ]
  },
  {
   "cell_type": "code",
   "execution_count": 8,
   "id": "83588e70-254f-4f83-a510-c8ae81e729b0",
   "metadata": {
    "height": 96
   },
   "outputs": [],
   "source": [
    "RESEARCH_PLAN_PROMPT = \"\"\"你是一位研究人员，负责根据一个针对小学6年级作文大纲，生成一份搜索查询列表（最多生成3个查询），供Tavily搜索相关信息。\"\"\"\n"
   ]
  },
  {
   "cell_type": "code",
   "execution_count": 9,
   "id": "6cb3ef4c-58b3-401b-b104-0d51e553d982",
   "metadata": {
    "height": 96
   },
   "outputs": [],
   "source": [
    "RESEARCH_CRITIQUE_PROMPT = \"\"\"你是一位研究人员，根据用户提出的对一份小学6年级作文的改进意见，生成一份搜索查询列表（最多生成3个查询），供Tavily搜索相关信息。\"\"\"\n"
   ]
  },
  {
   "cell_type": "markdown",
   "id": "59a12eed",
   "metadata": {},
   "source": []
  },
  {
   "cell_type": "code",
   "execution_count": 10,
   "id": "dc3293b7-a50c-43c8-a022-8975e1e444b8",
   "metadata": {
    "height": 81
   },
   "outputs": [
    {
     "name": "stderr",
     "output_type": "stream",
     "text": [
      "/home/haoyu/anaconda3/envs/yolo/lib/python3.10/site-packages/IPython/core/interactiveshell.py:3579: LangChainDeprecationWarning: As of langchain-core 0.3.0, LangChain uses pydantic v2 internally. The langchain_core.pydantic_v1 module was a compatibility shim for pydantic v1, and should no longer be used. Please update the code to import from Pydantic directly.\n",
      "\n",
      "For example, replace imports like: `from langchain_core.pydantic_v1 import BaseModel`\n",
      "with: `from pydantic import BaseModel`\n",
      "or the v1 compatibility namespace if you are working in a code base that has not been fully upgraded to pydantic 2 yet. \tfrom pydantic.v1 import BaseModel\n",
      "\n",
      "  exec(code_obj, self.user_global_ns, self.user_ns)\n"
     ]
    }
   ],
   "source": [
    "# research plan或者research critique（通过LLM）将生成要搜索的内容的列表，传递给Tavily进行搜索，为此，我们将使用function call，\n",
    "# 确保我们从LLM得到一个搜索列表。所以，我们使用Pydantic定义Queries类，确保我们从LLM得到的回复是字符串列表，即搜索列表。\n",
    "\n",
    "from langchain_core.pydantic_v1 import BaseModel\n",
    "\n",
    "class Queries(BaseModel):\n",
    "    queries: List[str]"
   ]
  },
  {
   "cell_type": "code",
   "execution_count": 11,
   "id": "0722c3d4-4cbf-43bf-81b0-50f634c4ce61",
   "metadata": {
    "height": 64
   },
   "outputs": [],
   "source": [
    "from tavily import TavilyClient\n",
    "import os\n",
    "\n",
    "tavily = TavilyClient(api_key=os.environ[\"TAVILY_API_KEY\"])"
   ]
  },
  {
   "cell_type": "markdown",
   "id": "d5ac60f4",
   "metadata": {},
   "source": [
    "现在，我们开始创建所有不同的node。  \n",
    "\n",
    "首先是plan node："
   ]
  },
  {
   "cell_type": "code",
   "execution_count": 12,
   "id": "6b2f82fe-3ec4-4917-be51-9fb10d1317fa",
   "metadata": {
    "height": 132
   },
   "outputs": [],
   "source": [
    "# plan Node要做的是接收state，创建一个消息列表。其中SystemMessage是plan prompt，HumanMessage是task，即要写关于哪方面的作文。\n",
    "# 将消息列表传递给LLM，得到的response.content将作为plan返回。注意，这将会更新state的\"plan\"键值。\n",
    "def plan_node(state: AgentState):\n",
    "    # 创建一个消息列表，SystemMessage是PLAN_PROMPT，HumanMessage是\"task\"，即要生成关于哪方面的作文。\n",
    "    messages = [\n",
    "        SystemMessage(content=PLAN_PROMPT), \n",
    "        HumanMessage(content=state['task'])\n",
    "    ]\n",
    "\n",
    "    # 将消息列表传递给LLM，返回的response.content即LLM生成的作文写作大纲（plan）。\n",
    "    response = model.invoke(messages)\n",
    "\n",
    "    # 更新state “plan\"键值。\n",
    "    return {\"plan\": response.content}"
   ]
  },
  {
   "cell_type": "code",
   "execution_count": 13,
   "id": "ee0fe1c7-77e2-499c-a2f9-1f739bb6ddf0",
   "metadata": {
    "height": 200
   },
   "outputs": [],
   "source": [
    "# research plan node接收state，通过给model传递RESEARCH_PLAN_PROMPT和task，生成queries。\n",
    "# 然后取得当前state的content，即之前已经有的参考内容。\n",
    "# 然后对于每一个query，调用Tavily工具搜索，将搜索得到的参考内容追加到content中。\n",
    "# 最后返回content，即参考内容列表。注意，这将更新state的\"content\"键值。\n",
    "def research_plan_node(state: AgentState):\n",
    "\n",
    "    # 创建包含RESEARCH_PLAN_PROMPT和\"task\"的消息列表，传递给LLM，LLM生成针对task的搜索queries。\n",
    "    queries = model.with_structured_output(Queries).invoke([\n",
    "        SystemMessage(content=RESEARCH_PLAN_PROMPT),\n",
    "        HumanMessage(content=state['task'])\n",
    "    ])\n",
    "\n",
    "    # 取得当前已有的state \"content\"，赋值给content\n",
    "    #content = state['content'] or []\n",
    "    content = state.get('content', []) or []\n",
    "\n",
    "    # 针对每一个query，使用Tavily进行搜索，得到的内容追加到content中。\n",
    "    for q in queries.queries:\n",
    "        response = tavily.search(query=q, max_results=2)\n",
    "        for r in response['results']:\n",
    "            content.append(r['content'])\n",
    "\n",
    "    # 更新state \"content\"键值。\n",
    "    return {\"content\": content}"
   ]
  },
  {
   "cell_type": "markdown",
   "id": "395e42e5",
   "metadata": {},
   "source": [
    "前面我们制定了一个plan，进行了一些research，现在可以写第一稿了："
   ]
  },
  {
   "cell_type": "code",
   "execution_count": 14,
   "id": "98f303b1-a4d0-408c-8cc0-515ff980717f",
   "metadata": {
    "height": 285
   },
   "outputs": [],
   "source": [
    "def generation_node(state: AgentState):\n",
    "\n",
    "    # 将所有state['content']连接在一起（注意，'content'是之前搜索到的所有具体内容，而不是网址链接），保存在content变量中。\n",
    "    content = \"\\n\\n\".join(state['content'] or [])\n",
    "\n",
    "    # 创建用户输入，包括了\"task\"（要写关于哪方面的作文） 和\"plan\"（作文写作大纲），\n",
    "    user_message = HumanMessage(\n",
    "        content=f\"{state['task']}\\n\\nHere is my plan:\\n\\n{state['plan']}\")\n",
    "\n",
    "    # 创建消息列表messages，其中SystemMessage是WRITER_PROMPT（包括research_plan_node通过Tavily搜索得到的相关资料）。\n",
    "    # HumanMessage就是上面创建的user_message，包括\"task\"和\"plan\"。\n",
    "    messages = [\n",
    "        SystemMessage(\n",
    "            content=WRITER_PROMPT.format(content=content)\n",
    "        ),\n",
    "        user_message\n",
    "        ]\n",
    "    \n",
    "    # 将消息列表传递给LLM，得到的response.content就是LLM根据messages中的消息生成的作文草稿\n",
    "    response = model.invoke(messages)\n",
    "\n",
    "    # 更新state的\"draft\"和\"revision_number\"键值。\n",
    "    return {\n",
    "        \"draft\": response.content, \n",
    "        \"revision_number\": state.get(\"revision_number\", 1) + 1\n",
    "    }\n"
   ]
  },
  {
   "cell_type": "markdown",
   "id": "5f8593ca",
   "metadata": {},
   "source": [
    "生成了作文草稿之后，我们需要对作文进行反思，生成对作文草稿的改进意见："
   ]
  },
  {
   "cell_type": "code",
   "execution_count": 15,
   "id": "bf4dcb93-6298-4cfd-b3ce-61dfac7fb35f",
   "metadata": {
    "height": 132
   },
   "outputs": [],
   "source": [
    "# reflection node对作文草稿进行反思，提出改进意见\n",
    "def reflection_node(state: AgentState):\n",
    "    # 创建消息列表，SystemMessage是反思提示词，HumanMessage是作文草稿。\n",
    "    messages = [\n",
    "        SystemMessage(content=REFLECTION_PROMPT), \n",
    "        HumanMessage(content=state['draft'])\n",
    "    ]\n",
    "\n",
    "    # 将消息列表传递给LLM，得到的response.content即LLM对作文草稿的改进意见。\n",
    "    response = model.invoke(messages)\n",
    "\n",
    "    # 更新state的\"critique\"键值。\n",
    "    return {\"critique\": response.content}"
   ]
  },
  {
   "cell_type": "code",
   "execution_count": 16,
   "id": "932883a4-c722-42bb-aec0-b4f41c5c81a4",
   "metadata": {
    "height": 200
   },
   "outputs": [],
   "source": [
    "# research critique节点用于对改进意见进行研究，所以它和research plan node做的事情很类似。\n",
    "def research_critique_node(state: AgentState):\n",
    "\n",
    "    # 将改进意见和对应的RESEARCH_CRITIQUE_PROMPT传递给LLM，得到要做哪些queries。\n",
    "    queries = model.with_structured_output(Queries).invoke([\n",
    "        SystemMessage(content=RESEARCH_CRITIQUE_PROMPT),\n",
    "        HumanMessage(content=state['critique'])\n",
    "    ])\n",
    "\n",
    "    # 取得当前state['content']，赋值给content变量\n",
    "    # content = state['content'] or []\n",
    "    content = state.get('content', []) or []\n",
    "\n",
    "    # 针对每一条query，调用Tavily工具查询，查询结果追加到content中。\n",
    "    for q in queries.queries:\n",
    "        response = tavily.search(query=q, max_results=2)\n",
    "        for r in response['results']:\n",
    "            content.append(r['content'])\n",
    "\n",
    "    # 更新state \"content\"键值。\n",
    "    return {\"content\": content}"
   ]
  },
  {
   "cell_type": "markdown",
   "id": "99ad18a1",
   "metadata": {},
   "source": [
    "我们还需要一个判断是否继续改进的函数should_continue。这个函数在generation_node后执行，所以generation_node后，要么END，表示得到作文终稿。要么执行\"reflect\"节点，继续对草稿提出改进意见，再按改进意见查询修改。"
   ]
  },
  {
   "cell_type": "code",
   "execution_count": 17,
   "id": "ff362f49-dcf1-4ea1-a86c-e516e9ab897d",
   "metadata": {
    "height": 81
   },
   "outputs": [],
   "source": [
    "def should_continue(state):\n",
    "    if state[\"revision_number\"] > state[\"max_revisions\"]:\n",
    "        return END\n",
    "    return \"reflect\""
   ]
  },
  {
   "cell_type": "markdown",
   "id": "f41697e9",
   "metadata": {},
   "source": [
    "我们定义了所有需要的node以及条件，现在我们可以把它们组合成graph了："
   ]
  },
  {
   "cell_type": "code",
   "execution_count": 18,
   "id": "a7e15a20-83d7-434c-8551-bce8dcc32be0",
   "metadata": {
    "height": 30
   },
   "outputs": [],
   "source": [
    "# 创建graph\n",
    "builder = StateGraph(AgentState)"
   ]
  },
  {
   "cell_type": "code",
   "execution_count": 19,
   "id": "54ab2c74-f32e-490c-a85d-932d11444210",
   "metadata": {
    "height": 98
   },
   "outputs": [
    {
     "data": {
      "text/plain": [
       "<langgraph.graph.state.StateGraph at 0x71aedc6ffe80>"
      ]
     },
     "execution_count": 19,
     "metadata": {},
     "output_type": "execute_result"
    }
   ],
   "source": [
    "# 添加节点\n",
    "builder.add_node(\"planner\", plan_node)\n",
    "builder.add_node(\"generate\", generation_node)\n",
    "builder.add_node(\"reflect\", reflection_node)\n",
    "builder.add_node(\"research_plan\", research_plan_node)\n",
    "builder.add_node(\"research_critique\", research_critique_node)"
   ]
  },
  {
   "cell_type": "code",
   "execution_count": 20,
   "id": "a833d3ce-bd31-4319-811d-decff226b970",
   "metadata": {
    "height": 30
   },
   "outputs": [
    {
     "data": {
      "text/plain": [
       "<langgraph.graph.state.StateGraph at 0x71aedc6ffe80>"
      ]
     },
     "execution_count": 20,
     "metadata": {},
     "output_type": "execute_result"
    }
   ],
   "source": [
    "# 指定入口节点\n",
    "builder.set_entry_point(\"planner\")"
   ]
  },
  {
   "cell_type": "code",
   "execution_count": 21,
   "id": "76e93cce-6eab-4c7c-ac64-e9993fdb30d6",
   "metadata": {
    "height": 115
   },
   "outputs": [
    {
     "data": {
      "text/plain": [
       "<langgraph.graph.state.StateGraph at 0x71aedc6ffe80>"
      ]
     },
     "execution_count": 21,
     "metadata": {},
     "output_type": "execute_result"
    }
   ],
   "source": [
    "# 添加条件边，生成作文草稿后，是继续修改还是作为终稿结束。\n",
    "builder.add_conditional_edges(\n",
    "    \"generate\", \n",
    "    should_continue, \n",
    "    {END: END, \"reflect\": \"reflect\"}\n",
    ")\n"
   ]
  },
  {
   "cell_type": "code",
   "execution_count": 22,
   "id": "fd2d0990-a932-423f-9ff3-5cada58c5f32",
   "metadata": {
    "height": 98
   },
   "outputs": [
    {
     "data": {
      "text/plain": [
       "<langgraph.graph.state.StateGraph at 0x71aedc6ffe80>"
      ]
     },
     "execution_count": 22,
     "metadata": {},
     "output_type": "execute_result"
    }
   ],
   "source": [
    "# 添加普通边\n",
    "builder.add_edge(\"planner\", \"research_plan\")\n",
    "builder.add_edge(\"research_plan\", \"generate\")\n",
    "\n",
    "builder.add_edge(\"reflect\", \"research_critique\")\n",
    "builder.add_edge(\"research_critique\", \"generate\")"
   ]
  },
  {
   "cell_type": "code",
   "execution_count": 23,
   "id": "27cde654-64e2-48bc-80a9-0ed668ccb7dc",
   "metadata": {
    "height": 30
   },
   "outputs": [],
   "source": [
    "# 编译graph，编译完成后graph就是一个runnable，支持invoke, stream, batch等接口。\n",
    "graph = builder.compile(checkpointer=memory)"
   ]
  },
  {
   "cell_type": "code",
   "execution_count": 24,
   "id": "4871f644-b131-4065-b7ce-b82c20a41f11",
   "metadata": {
    "height": 64
   },
   "outputs": [
    {
     "data": {
      "image/png": "[encoded data removed]",
      "text/plain": [
       "<IPython.core.display.Image object>"
      ]
     },
     "execution_count": 24,
     "metadata": {},
     "output_type": "execute_result"
    }
   ],
   "source": [
    "from IPython.display import Image\n",
    "\n",
    "Image(graph.get_graph().draw_png())"
   ]
  },
  {
   "cell_type": "code",
   "execution_count": 25,
   "id": "98f3be1d-cc4c-41fa-9863-3e386e88e305",
   "metadata": {
    "height": 132
   },
   "outputs": [
    {
     "name": "stdout",
     "output_type": "stream",
     "text": [
      "{'planner': {'plan': '写作一篇题为“我的一次期末考试”的作文时，我们可以按照这样的提纲进行：\\n\\n### 一、引出话题\\n#### 提纲要点：\\n1. 简述平时学习生活的状态。\\n2. 引入即将到来的期末考试，描述考前的心情（紧张、认真复习）。\\n3. 创设情景或背景，如考前几天家里的安静氛围。\\n\\n**理由：通过描写日常学习生活使读者更容易理解作者对这次期末考试的态度与心境。**\\n\\n### 二、详细经过\\n#### 提纲要点：\\n1. 考试当天的路线（从家出发到学校的情景）。\\n2. 实际进考场过程：心理状态，进入考室的感受和遇到的同学情况等。\\n3. 具体某一场或几场考试的细节描述：拿到试卷时的状态；解题思路转换/障碍；以及自己努力答题的过程；遇到难题后的沉着思考或求助老师的心理活动。\\n4. 简要概括每门课考试状况及成绩期望。\\n\\n**理由：详细过程能使读者更真实地感受作者参加期末考的情境与心路变迁，尤其是对某一环节的深入分析能展示“你”面对重要关卡时的心态变化。**\\n\\n### 三、总结感想\\n#### 提纲要点：\\n1. 考试结束后的心情（放松或者忐忑不安等待成绩）。\\n2. 对此次考试结果的看法（意外的结果/达到既定目标）。\\n3. 分享一下个人在未来学习中的计划与态度改变，包括怎样去改进方法、调整心态。\\n\\n**理由：这部分是作文的升华阶段，通过总结这次经历给自己带来的经验和教训，有助于启发自己同时也为其他人提供积极正面的信息。**\\n\\n这样的提纲结构可以帮助你清晰有序地描述“我的一次期末考试”，使得文章既有叙述上的连贯性又容易引起读者共鸣与思考。'}}\n",
      "--------------------------------------------------------------\n"
     ]
    },
    {
     "name": "stderr",
     "output_type": "stream",
     "text": [
      "/home/haoyu/anaconda3/envs/yolo/lib/python3.10/site-packages/langchain_openai/chat_models/base.py:1377: UserWarning: Received a Pydantic BaseModel V1 schema. This is not supported by method=\"json_schema\". Please use method=\"function_calling\" or specify schema via JSON Schema or Pydantic V2 BaseModel. Overriding to method=\"function_calling\".\n",
      "  warnings.warn(\n"
     ]
    },
    {
     "name": "stdout",
     "output_type": "stream",
     "text": [
      "{'research_plan': {'content': ['期末考试作文 8. 还有二十天就要期末考试了，老妈现在就让我开始总体复习了，不准玩电脑游戏，除非打博客，不准看动画片，而且还要还有定时间，几点干什么几点干什么不过这也都是为了我考好成绩才这样干的。 就说今天中午放学吧!', '今天王老师给同学们准备了小学六年级语文下册常考的6大作文素材积累，一定要收藏! 1. 人生哲理 （关于人生、生活、生命、成长等）. 1、人生似一束鲜花，仔细观赏，才能看到它的美丽；人生似一杯清茶，细细品味，才能赏出真味道。', '在平日的学习、工作和生活里，大家最不陌生的就是作文了吧，借助作文可以宣泄心中的情感，调节自己的心情。那么你知道一篇好的作文该怎么写吗？ 期末作文400字 1. 平时最怕考试，因为什么都不擅长，所以只能看一门数学。听说要期中考试，差点没吓死。', '在现实生活或工作学习中，大家都跟作文打过交道吧，作文是人们把记忆中所存储的有关知识、经验和思想用书面形式表达出来的记叙方式。相信许多人会觉得作文很难写吧，下面是小编帮大家整理的六年级期末考试作文，仅供参考，欢迎大家阅读。 六年级期末考试作文 篇1 当我拿到四张充满了红', '学生是否愿意配合？其他班的考试情况？ ... 高质量的问答社区和创作者聚集的原创内容平台，于 2011 年 1 月正式上线，以「让人们更好的分享知识、经验和见解，找到自己的解答」为品牌使命。 ... 如何进行小学六年级语文期中考试的自我反思？', '小学 6年级，为了应对这次期末考，充分调动孩子们复习的积极性，老师们又放大招：考好者，重赏神秘大礼包，这个相当有吸引力，我家孩子这几天为了背语文复习资料，一直想着早上5：30起床，要知道她以前都快7点了，叫还叫不醒。']}}\n",
      "--------------------------------------------------------------\n",
      "{'generate': {'draft': '### 我的一次期末考试\\n\\n在平时的学习生活中，我一直按照自己的节奏前进，每天的课程如常进行，在知识的世界里探索着未知的秘密。然而随着考试的临近，我变得越来越专注和认真。我的妈妈见状也加强了对学习计划的要求，每天都安排得井井有条，严格控制游戏时间，确保我能把全部注意力都放在学习上。\\n\\n尤其是在考前那几天，家里安静到让人感到有些沉重，大家都在全心准备着考试。我也是每天早起复习资料，心中默想着即将到来的挑战。这不仅是对过去所有知识积累的一次检验，更是进入新阶段的一个重要起点。\\n\\n#### 考试当天\\n\\n当考试日终于到来时，天色还很暗我就已经迫不及待地踏上了前往学校的路。一路思考着可能会有的考题内容和复习中重点记忆的知识点。走进教室的那一刻，紧张却激动的心情几乎让我忘言。随着试卷下发，我认真审题，并迅速进入了应答的状态。\\n\\n面对一道又一道题目，我的心中时而充满自信，遇到难题时也不再慌乱，反而静下心来想出解法。这种时候就特别需要冷静和平常的积累来做支撑了。尽管中途有几次因为难题卡壳，但我也及时克服了自己的小障碍，把重点放于每一道尽可能正确的解答上。\\n\\n考试结束后，心情终于放松了下来。我想起了妈妈和老师的话：“要对自己充满了信心。”不论这次的结果如何，我都能通过这个过程学到很多东西。而未来的路，我相信无论在学习还是生活中都会用更加认真的态度去面对每一个挑战。\\n\\n#### 总结感想\\n\\n总体上，我觉得自己的考试状态不错，尽管可能有一些题目做的不够完美，但这次经历带给我更多的是成长和勇气，让我明白了成功不仅仅取决于考试成绩的好坏。我也计划在未来的学习中加强薄弱知识点的练习，调整复习策略和方法，让自己能在以后迎接更多挑战时更加淡定从容。\\n\\n这次期末考试不单是一张成绩单上的分数变化那么简单的事情；它更是成长路上的重要一站，在这段时间里我学到了比考高分还要重要的道理—那就是学会面对考试，努力克服困难，同时保持乐观积极的心态。未来我依然会为了更好的自己而不懈的努力下去!', 'revision_number': 2}}\n",
      "--------------------------------------------------------------\n",
      "{'reflect': {'critique': '这篇作文展现了作者对于期末考试的紧张情绪、认真复习的态度以及对未来学习的信心和决心，很好地传达了考生的心路历程。\\n\\n从你的文章中可以看出，你表达了很多个人的情感与想法，并用了一些细节来丰富内容。下面是一些详细的评价和改进建议：\\n\\n### 1. 题目设置\\n\\n题目的确立对于作文的清晰度具有非常重要的作用。原文题目“我的一次期末考试”已经很好了，如果能更具体一些会更好；比如可以改为：“紧张中的坚持与成长—记我最后一次期终考试”。\\n\\n### 2. 语言表达\\n\\n从语句结构上审视，你的文章使用第一人称的写作风格有助于拉近和读者之间的距离。但是文章中存在不少长句子，使得句子变得冗长累赘。\\n\\n建议多用短语或复合句进行描写，并适当增加一些修辞手法来丰富文意和增强可读性；以增强语言的感染力为例：“尽管中途有几次因为难题卡壳，但我也快速调整到平稳状态”。另外，“我心中默想着即将到来的挑战”，这种心理描写非常生动。\\n\\n### 3. 文章组织\\n\\n文章的三大段结构清晰，分别描述了考前情绪变化、考试当天经历和感受总结。但是文章各部分之间缺乏明显的衔接词，会显得内容略显单薄或者断层感。\\n\\n建议在各部分内容间增加过渡句，并且进一步明确逻辑层次：\\n\\n- **修改示例**：“面对考前的压力使我意识到这次考试的重要性，而这也激发了我认真复习的决心。为了使自己做好充足的准备。”\\n- 亦可增强“紧张却激动”的心情描写，比如：**调整如下**：“教室里静得可以听到自己的心跳声，那种难以言喻的激动和对题目的期待几乎让我不再呼吸。”\\n\\n### 4. 细节与情感\\n\\n你描述中的个人情绪，如考前的情绪变化、遇到难题时的心态调节等细节非常恰当。这显示了你的文章充满了真实性和感染力。\\n\\n但是你可以添加更多细节来增强文章的真实感：比如“每天都按照详细的复习计划进行备考，而妈妈也会陪伴我，一起讨论我不理解的难点。”或者具体到考试那天发生的情况：“老师刚宣布考试开始后，周围同学似乎都沉浸在思考中”。此外，“考完离开教室的时候阳光很好，心情也跟着轻快起来。”\\n\\n### 5. 文章深度\\n\\n你的文章已经具备相当程度的深度，尤其是关于成绩之外的成长和心态变化的反思非常深刻。你认为“成功不仅仅取决于考试成绩的好坏”，这表达了对学习的一种更开放、更全面的理解。\\n\\n但是这部分内容还可以进一步展开，例如可以具体说明你是从哪些方面感受到了自己的成长，或者用一些具体的例子来增强说服力：“尽管遇到了不少难题，但考前的努力和家长的陪伴都使我能够更加冷静地面对考验。我相信每一次考试都是一次宝贵的经历。”\\n \\n### 6. 文章长度\\n\\n这篇文章的整体内容较为充实且篇幅合适，既没有过长也不会让人感觉很单薄或者轻飘飘。\\n\\n但是可以适当增减一些内容，保证文章的逻辑性和丰富性：如关于考后的心情描写、对未来学习策略的详细说明等都可以成为拓展细节的方向；同时也可以精简部分描述过程和感受的语言表达以增强可读性。'}}\n",
      "--------------------------------------------------------------\n"
     ]
    },
    {
     "name": "stderr",
     "output_type": "stream",
     "text": [
      "/home/haoyu/anaconda3/envs/yolo/lib/python3.10/site-packages/langchain_openai/chat_models/base.py:1377: UserWarning: Received a Pydantic BaseModel V1 schema. This is not supported by method=\"json_schema\". Please use method=\"function_calling\" or specify schema via JSON Schema or Pydantic V2 BaseModel. Overriding to method=\"function_calling\".\n",
      "  warnings.warn(\n"
     ]
    },
    {
     "name": "stdout",
     "output_type": "stream",
     "text": [
      "{'research_critique': {'content': ['期末考试作文 8. 还有二十天就要期末考试了，老妈现在就让我开始总体复习了，不准玩电脑游戏，除非打博客，不准看动画片，而且还要还有定时间，几点干什么几点干什么不过这也都是为了我考好成绩才这样干的。 就说今天中午放学吧!', '今天王老师给同学们准备了小学六年级语文下册常考的6大作文素材积累，一定要收藏! 1. 人生哲理 （关于人生、生活、生命、成长等）. 1、人生似一束鲜花，仔细观赏，才能看到它的美丽；人生似一杯清茶，细细品味，才能赏出真味道。', '在平日的学习、工作和生活里，大家最不陌生的就是作文了吧，借助作文可以宣泄心中的情感，调节自己的心情。那么你知道一篇好的作文该怎么写吗？ 期末作文400字 1. 平时最怕考试，因为什么都不擅长，所以只能看一门数学。听说要期中考试，差点没吓死。', '在现实生活或工作学习中，大家都跟作文打过交道吧，作文是人们把记忆中所存储的有关知识、经验和思想用书面形式表达出来的记叙方式。相信许多人会觉得作文很难写吧，下面是小编帮大家整理的六年级期末考试作文，仅供参考，欢迎大家阅读。 六年级期末考试作文 篇1 当我拿到四张充满了红', '学生是否愿意配合？其他班的考试情况？ ... 高质量的问答社区和创作者聚集的原创内容平台，于 2011 年 1 月正式上线，以「让人们更好的分享知识、经验和见解，找到自己的解答」为品牌使命。 ... 如何进行小学六年级语文期中考试的自我反思？', '小学 6年级，为了应对这次期末考，充分调动孩子们复习的积极性，老师们又放大招：考好者，重赏神秘大礼包，这个相当有吸引力，我家孩子这几天为了背语文复习资料，一直想着早上5：30起床，要知道她以前都快7点了，叫还叫不醒。', '六年级是小学阶段的最后一年，作文写作作为语文学习的重要组成部分，对学生的综合素质和语文能力提出了较高的要求。 ... 生动的语言能够使文章更加有趣、更具吸引力。 ... 同学们可以多读一些优秀的范文和文学作品，学习别人的写作技巧和表达方式；同时', '这些目标能够 帮助学生保持写作的动力和方向。 通过这些方法的应用，小学六年级的学生们将能够在作文写 作上取得显著的进步。不仅能提升他们的语言表达能力，还能增 强他们的自信心，使他们在未来的学习和生活中能够更自如地运 用写作技巧。', '在日复一日的学习、工作或生活中，大家总少不了接触作文吧，借助作文可以宣泄心中的情感，调节自己的心情。你写作文时总是无从下笔？下面是小编为大家整理的小学六年级期末考试作文题目，欢迎阅读，希望大家能够喜欢。 小学六年级期末考试作文题目 1 一、读《-----》后的体会 要求：认真', '每日商报讯 \"双减\"后的第一场期末考，家长们关注度很高。 尤其是小学四到六年级的语文作文题，家长们发现，\"明明是小学作文题，看起来却', '总之，细节描写是记叙文中非常重要的一部分，通过感官描写、细腻的动作描写、环境描写、心理描写和语言描写等多种方法，可以让文章更加生动、真实，增强感染力。希望这些方法和技巧能够帮助同学们在记叙文中进行细致入微的描写，写出更加生动的文章。', '小学语文【细节描写】的方法技巧和作文素材，超全超实用! ... 写作文要注重细节描写，细节描写不仅可以让文章更生动形象，还可以使内容更丰满。 ... 例2使用大量文字进行细节描写，使得故事情节生动具体，真实可感，细细读来，仿佛读者亲眼可见一般。']}}\n",
      "--------------------------------------------------------------\n",
      "{'generate': {'draft': '### 我的一次期末考试\\n\\n期末考试的钟声已渐渐逼近，我心里既紧张又期待，这是一场对之前一整个学期学习成果的大检阅。\\n\\n平时，我并不太用功，更喜欢和朋友们一起玩耍，但在最后一段时间里，我的母亲却变得格外认真。她为我制定了详细的复习计划：不准再玩电脑游戏，除非是写博客；动画片也被列在禁止之列；甚至连时间也有了具体规定，每天几点该干什么，一切都井然有序，虽然有些束缚，但我知道这些都是为了我能取得好成绩。\\n\\n### 详细经过\\n\\n考试前一个星期，家里开始弥漫出一股紧张的氛围。我按照妈妈制定的计划开始了全面的复习，每天都感到非常充实和忙碌。在考试前一天晚上，我一直复习到深夜，躺在床上还想着明天考题可能是什么样子。\\n\\n第二天早上，我又起了个大早，赶往学校参加期末考试。到了教室，看着同学们一个个表情严肃，我也感受到了一种紧张的气息。第一场是语文考试，拿到试卷的瞬间我有些惊讶，因为一些题目竟和平时做过的练习非常相似，这让我有了一些信心。然而考题的最后几道还是让我感到吃力，但我的内心坚定：要尽力把能做的都做好。\\n\\n数学考试又是一番不同的经历。面对一道又一道难题，我的脑子里像是被塞满了乱七八糟的信息，有些题目解法瞬间清晰，而另一些则让人感觉十分棘手。在那几个小时里，我几乎不记得时间的流逝，只是全神贯注地解答着。\\n\\n### 总结感想\\n\\n当考试结束铃声响起时，紧张的情绪逐渐放松下来，但又带着一份对成绩未知的忐忑。经过这次期末考，我深深体会到平时学习的重要性，也意识到临时抱佛脚是没用的。通过这一次经历，我决定在未来的日子里更加努力地学习，不但要掌握基础知识，还要培养良好的解题方法、习惯和心理素质。我想我会更多关注自己的进步，而不仅仅是眼前的分数。\\n\\n这次期末考试不仅仅是一场测验，也是对我过去几个月学习态度的一次检阅，更是在心中埋下了为未来打好基础的重要一课。', 'revision_number': 3}}\n",
      "--------------------------------------------------------------\n"
     ]
    }
   ],
   "source": [
    "# 执行graph，传入task，同时指定max_revisions和revision_number。\n",
    "# 从打印的信息可以看出，因为设置max_revisions为2，所以graph的执行经历了如下过程：\n",
    "# 'planner'-->'research_plan'-->'generate'-->'reflect'-->'research_critique'-->'generate'\n",
    "\n",
    "thread = {\"configurable\": {\"thread_id\": \"1\"}}\n",
    "for s in graph.stream({\n",
    "    #'task': \"what is the difference between langchain and langsmith\",\n",
    "    'task': \"我的一次期末考试\",\n",
    "    \"max_revisions\": 2,\n",
    "    \"revision_number\": 1,\n",
    "}, thread):\n",
    "    print(s)\n",
    "    print(\"--------------------------------------------------------------\")"
   ]
  },
  {
   "cell_type": "code",
   "execution_count": null,
   "id": "0ad8a6cc-65d4-4ce7-87aa-4e67d7c23d7b",
   "metadata": {
    "height": 30
   },
   "outputs": [],
   "source": []
  },
  {
   "cell_type": "markdown",
   "id": "4d1664b5-75e0-46b7-9c2b-4ac9171f4597",
   "metadata": {},
   "source": [
    "## Essay Writer Interface"
   ]
  },
  {
   "cell_type": "code",
   "execution_count": 26,
   "id": "6e0ae270-3ec3-484a-b729-df7d2b7b0f76",
   "metadata": {
    "height": 81
   },
   "outputs": [],
   "source": [
    "import warnings\n",
    "warnings.filterwarnings(\"ignore\")\n",
    "\n",
    "from FunLearning import writer, writer_gui"
   ]
  },
  {
   "cell_type": "code",
   "execution_count": 27,
   "id": "f0ebfa79-c7fc-4aaa-b668-64e5b6cede80",
   "metadata": {
    "height": 64
   },
   "outputs": [
    {
     "name": "stdout",
     "output_type": "stream",
     "text": [
      "* Running on local URL:  http://127.0.0.1:7860\n",
      "\n",
      "To create a public link, set `share=True` in `launch()`.\n"
     ]
    },
    {
     "data": {
      "text/html": [
       "<div><iframe src=\"http://127.0.0.1:7860/\" width=\"100%\" height=\"500\" allow=\"autoplay; camera; microphone; clipboard-read; clipboard-write;\" frameborder=\"0\" allowfullscreen></iframe></div>"
      ],
      "text/plain": [
       "<IPython.core.display.HTML object>"
      ]
     },
     "metadata": {},
     "output_type": "display_data"
    },
    {
     "name": "stderr",
     "output_type": "stream",
     "text": [
      "Traceback (most recent call last):\n",
      "  File \"/home/haoyu/anaconda3/envs/yolo/lib/python3.10/site-packages/gradio/queueing.py\", line 622, in process_events\n",
      "    response = await route_utils.call_process_api(\n",
      "  File \"/home/haoyu/anaconda3/envs/yolo/lib/python3.10/site-packages/gradio/route_utils.py\", line 323, in call_process_api\n",
      "    output = await app.get_blocks().process_api(\n",
      "  File \"/home/haoyu/anaconda3/envs/yolo/lib/python3.10/site-packages/gradio/blocks.py\", line 2014, in process_api\n",
      "    result = await self.call_function(\n",
      "  File \"/home/haoyu/anaconda3/envs/yolo/lib/python3.10/site-packages/gradio/blocks.py\", line 1567, in call_function\n",
      "    prediction = await anyio.to_thread.run_sync(  # type: ignore\n",
      "  File \"/home/haoyu/anaconda3/envs/yolo/lib/python3.10/site-packages/anyio/to_thread.py\", line 56, in run_sync\n",
      "    return await get_async_backend().run_sync_in_worker_thread(\n",
      "  File \"/home/haoyu/anaconda3/envs/yolo/lib/python3.10/site-packages/anyio/_backends/_asyncio.py\", line 2461, in run_sync_in_worker_thread\n",
      "    return await future\n",
      "  File \"/home/haoyu/anaconda3/envs/yolo/lib/python3.10/site-packages/anyio/_backends/_asyncio.py\", line 962, in run\n",
      "    result = context.run(func, *args)\n",
      "  File \"/home/haoyu/anaconda3/envs/yolo/lib/python3.10/site-packages/gradio/utils.py\", line 846, in wrapper\n",
      "    response = f(*args, **kwargs)\n",
      "  File \"/home/haoyu/work/code/FunLearning/FunLearning.py\", line 348, in copy_state\n",
      "    config = self.find_config(thread_ts)\n",
      "  File \"/home/haoyu/work/code/FunLearning/FunLearning.py\", line 338, in find_config\n",
      "    if config['configurable']['thread_ts'] == thread_ts:\n",
      "KeyError: 'thread_ts'\n",
      "Traceback (most recent call last):\n",
      "  File \"/home/haoyu/anaconda3/envs/yolo/lib/python3.10/site-packages/gradio/queueing.py\", line 622, in process_events\n",
      "    response = await route_utils.call_process_api(\n",
      "  File \"/home/haoyu/anaconda3/envs/yolo/lib/python3.10/site-packages/gradio/route_utils.py\", line 323, in call_process_api\n",
      "    output = await app.get_blocks().process_api(\n",
      "  File \"/home/haoyu/anaconda3/envs/yolo/lib/python3.10/site-packages/gradio/blocks.py\", line 2014, in process_api\n",
      "    result = await self.call_function(\n",
      "  File \"/home/haoyu/anaconda3/envs/yolo/lib/python3.10/site-packages/gradio/blocks.py\", line 1567, in call_function\n",
      "    prediction = await anyio.to_thread.run_sync(  # type: ignore\n",
      "  File \"/home/haoyu/anaconda3/envs/yolo/lib/python3.10/site-packages/anyio/to_thread.py\", line 56, in run_sync\n",
      "    return await get_async_backend().run_sync_in_worker_thread(\n",
      "  File \"/home/haoyu/anaconda3/envs/yolo/lib/python3.10/site-packages/anyio/_backends/_asyncio.py\", line 2461, in run_sync_in_worker_thread\n",
      "    return await future\n",
      "  File \"/home/haoyu/anaconda3/envs/yolo/lib/python3.10/site-packages/anyio/_backends/_asyncio.py\", line 962, in run\n",
      "    result = context.run(func, *args)\n",
      "  File \"/home/haoyu/anaconda3/envs/yolo/lib/python3.10/site-packages/gradio/utils.py\", line 846, in wrapper\n",
      "    response = f(*args, **kwargs)\n",
      "  File \"/home/haoyu/work/code/FunLearning/FunLearning.py\", line 348, in copy_state\n",
      "    config = self.find_config(thread_ts)\n",
      "  File \"/home/haoyu/work/code/FunLearning/FunLearning.py\", line 338, in find_config\n",
      "    if config['configurable']['thread_ts'] == thread_ts:\n",
      "KeyError: 'thread_ts'\n",
      "Traceback (most recent call last):\n",
      "  File \"/home/haoyu/anaconda3/envs/yolo/lib/python3.10/site-packages/gradio/queueing.py\", line 622, in process_events\n",
      "    response = await route_utils.call_process_api(\n",
      "  File \"/home/haoyu/anaconda3/envs/yolo/lib/python3.10/site-packages/gradio/route_utils.py\", line 323, in call_process_api\n",
      "    output = await app.get_blocks().process_api(\n",
      "  File \"/home/haoyu/anaconda3/envs/yolo/lib/python3.10/site-packages/gradio/blocks.py\", line 2014, in process_api\n",
      "    result = await self.call_function(\n",
      "  File \"/home/haoyu/anaconda3/envs/yolo/lib/python3.10/site-packages/gradio/blocks.py\", line 1567, in call_function\n",
      "    prediction = await anyio.to_thread.run_sync(  # type: ignore\n",
      "  File \"/home/haoyu/anaconda3/envs/yolo/lib/python3.10/site-packages/anyio/to_thread.py\", line 56, in run_sync\n",
      "    return await get_async_backend().run_sync_in_worker_thread(\n",
      "  File \"/home/haoyu/anaconda3/envs/yolo/lib/python3.10/site-packages/anyio/_backends/_asyncio.py\", line 2461, in run_sync_in_worker_thread\n",
      "    return await future\n",
      "  File \"/home/haoyu/anaconda3/envs/yolo/lib/python3.10/site-packages/anyio/_backends/_asyncio.py\", line 962, in run\n",
      "    result = context.run(func, *args)\n",
      "  File \"/home/haoyu/anaconda3/envs/yolo/lib/python3.10/site-packages/gradio/utils.py\", line 846, in wrapper\n",
      "    response = f(*args, **kwargs)\n",
      "  File \"/home/haoyu/work/code/FunLearning/FunLearning.py\", line 348, in copy_state\n",
      "    config = self.find_config(thread_ts)\n",
      "  File \"/home/haoyu/work/code/FunLearning/FunLearning.py\", line 338, in find_config\n",
      "    if config['configurable']['thread_ts'] == thread_ts:\n",
      "KeyError: 'thread_ts'\n",
      "Traceback (most recent call last):\n",
      "  File \"/home/haoyu/anaconda3/envs/yolo/lib/python3.10/site-packages/gradio/queueing.py\", line 622, in process_events\n",
      "    response = await route_utils.call_process_api(\n",
      "  File \"/home/haoyu/anaconda3/envs/yolo/lib/python3.10/site-packages/gradio/route_utils.py\", line 323, in call_process_api\n",
      "    output = await app.get_blocks().process_api(\n",
      "  File \"/home/haoyu/anaconda3/envs/yolo/lib/python3.10/site-packages/gradio/blocks.py\", line 2014, in process_api\n",
      "    result = await self.call_function(\n",
      "  File \"/home/haoyu/anaconda3/envs/yolo/lib/python3.10/site-packages/gradio/blocks.py\", line 1567, in call_function\n",
      "    prediction = await anyio.to_thread.run_sync(  # type: ignore\n",
      "  File \"/home/haoyu/anaconda3/envs/yolo/lib/python3.10/site-packages/anyio/to_thread.py\", line 56, in run_sync\n",
      "    return await get_async_backend().run_sync_in_worker_thread(\n",
      "  File \"/home/haoyu/anaconda3/envs/yolo/lib/python3.10/site-packages/anyio/_backends/_asyncio.py\", line 2461, in run_sync_in_worker_thread\n",
      "    return await future\n",
      "  File \"/home/haoyu/anaconda3/envs/yolo/lib/python3.10/site-packages/anyio/_backends/_asyncio.py\", line 962, in run\n",
      "    result = context.run(func, *args)\n",
      "  File \"/home/haoyu/anaconda3/envs/yolo/lib/python3.10/site-packages/gradio/utils.py\", line 846, in wrapper\n",
      "    response = f(*args, **kwargs)\n",
      "  File \"/home/haoyu/work/code/FunLearning/FunLearning.py\", line 348, in copy_state\n",
      "    config = self.find_config(thread_ts)\n",
      "  File \"/home/haoyu/work/code/FunLearning/FunLearning.py\", line 338, in find_config\n",
      "    if config['configurable']['thread_ts'] == thread_ts:\n",
      "KeyError: 'thread_ts'\n",
      "Traceback (most recent call last):\n",
      "  File \"/home/haoyu/anaconda3/envs/yolo/lib/python3.10/site-packages/gradio/queueing.py\", line 622, in process_events\n",
      "    response = await route_utils.call_process_api(\n",
      "  File \"/home/haoyu/anaconda3/envs/yolo/lib/python3.10/site-packages/gradio/route_utils.py\", line 323, in call_process_api\n",
      "    output = await app.get_blocks().process_api(\n",
      "  File \"/home/haoyu/anaconda3/envs/yolo/lib/python3.10/site-packages/gradio/blocks.py\", line 2014, in process_api\n",
      "    result = await self.call_function(\n",
      "  File \"/home/haoyu/anaconda3/envs/yolo/lib/python3.10/site-packages/gradio/blocks.py\", line 1567, in call_function\n",
      "    prediction = await anyio.to_thread.run_sync(  # type: ignore\n",
      "  File \"/home/haoyu/anaconda3/envs/yolo/lib/python3.10/site-packages/anyio/to_thread.py\", line 56, in run_sync\n",
      "    return await get_async_backend().run_sync_in_worker_thread(\n",
      "  File \"/home/haoyu/anaconda3/envs/yolo/lib/python3.10/site-packages/anyio/_backends/_asyncio.py\", line 2461, in run_sync_in_worker_thread\n",
      "    return await future\n",
      "  File \"/home/haoyu/anaconda3/envs/yolo/lib/python3.10/site-packages/anyio/_backends/_asyncio.py\", line 962, in run\n",
      "    result = context.run(func, *args)\n",
      "  File \"/home/haoyu/anaconda3/envs/yolo/lib/python3.10/site-packages/gradio/utils.py\", line 846, in wrapper\n",
      "    response = f(*args, **kwargs)\n",
      "  File \"/home/haoyu/work/code/FunLearning/FunLearning.py\", line 348, in copy_state\n",
      "    config = self.find_config(thread_ts)\n",
      "  File \"/home/haoyu/work/code/FunLearning/FunLearning.py\", line 338, in find_config\n",
      "    if config['configurable']['thread_ts'] == thread_ts:\n",
      "KeyError: 'thread_ts'\n"
     ]
    }
   ],
   "source": [
    "MultiAgent = writer()\n",
    "app = writer_gui(MultiAgent.graph)\n",
    "app.launch()"
   ]
  },
  {
   "cell_type": "code",
   "execution_count": null,
   "id": "592b5e62-a203-433c-92a0-3783f490cde1",
   "metadata": {
    "height": 30
   },
   "outputs": [],
   "source": []
  },
  {
   "cell_type": "code",
   "execution_count": null,
   "id": "14fa923c-7e4f-42d1-965f-0f8ccd50fbd7",
   "metadata": {
    "height": 30
   },
   "outputs": [],
   "source": []
  },
  {
   "cell_type": "code",
   "execution_count": null,
   "id": "570c6245-2837-4ac5-983b-95f61f3ac10d",
   "metadata": {
    "height": 30
   },
   "outputs": [],
   "source": []
  },
  {
   "cell_type": "code",
   "execution_count": null,
   "id": "6b910915-b087-4d35-afff-0ec30a5852f1",
   "metadata": {
    "height": 30
   },
   "outputs": [],
   "source": []
  },
  {
   "cell_type": "code",
   "execution_count": null,
   "id": "c4feb6cc-5129-4a99-bb45-851bc07b5709",
   "metadata": {
    "height": 30
   },
   "outputs": [],
   "source": []
  },
  {
   "cell_type": "code",
   "execution_count": null,
   "id": "e85a02b4-96cc-4b01-8792-397a774eb499",
   "metadata": {
    "height": 30
   },
   "outputs": [],
   "source": []
  },
  {
   "cell_type": "code",
   "execution_count": null,
   "id": "ae8b86a6-5e20-4252-b1d8-009b8318345a",
   "metadata": {
    "height": 30
   },
   "outputs": [],
   "source": []
  },
  {
   "cell_type": "code",
   "execution_count": null,
   "id": "af925917-b746-48c9-ac74-62fefbe5246c",
   "metadata": {
    "height": 30
   },
   "outputs": [],
   "source": []
  },
  {
   "cell_type": "code",
   "execution_count": null,
   "id": "d5048f2c-4d82-49a5-9cb1-918d78b39f7b",
   "metadata": {
    "height": 30
   },
   "outputs": [],
   "source": []
  },
  {
   "cell_type": "code",
   "execution_count": null,
   "id": "393f7f1f-68b4-4462-bfa5-b6472ef1304a",
   "metadata": {
    "height": 30
   },
   "outputs": [],
   "source": []
  },
  {
   "cell_type": "code",
   "execution_count": null,
   "id": "43ac0aa9-baa7-4b58-889d-2118cc00c6b5",
   "metadata": {
    "height": 30
   },
   "outputs": [],
   "source": []
  },
  {
   "cell_type": "code",
   "execution_count": null,
   "id": "ed6098b9-e2a9-4767-8cb5-346db835c8d2",
   "metadata": {
    "height": 30
   },
   "outputs": [],
   "source": []
  },
  {
   "cell_type": "code",
   "execution_count": null,
   "id": "2d23cf2a-a179-44dc-9ae3-2eddda4b67b4",
   "metadata": {
    "height": 30
   },
   "outputs": [],
   "source": []
  },
  {
   "cell_type": "code",
   "execution_count": null,
   "id": "14a6005b-0221-4f5e-9be0-0580c1d03126",
   "metadata": {
    "height": 30
   },
   "outputs": [],
   "source": []
  },
  {
   "cell_type": "code",
   "execution_count": null,
   "id": "41c1ec12-f1c8-41ae-bb3e-5f28997b9b99",
   "metadata": {
    "height": 30
   },
   "outputs": [],
   "source": []
  },
  {
   "cell_type": "code",
   "execution_count": null,
   "id": "5c8c07d7-be17-4c17-82c5-6fe1db028b8b",
   "metadata": {
    "height": 30
   },
   "outputs": [],
   "source": []
  },
  {
   "cell_type": "code",
   "execution_count": null,
   "id": "04592c8e-1cfe-4b26-93b5-caf1ed1e7d24",
   "metadata": {
    "height": 30
   },
   "outputs": [],
   "source": []
  },
  {
   "cell_type": "code",
   "execution_count": null,
   "id": "6181c4a9-0e71-4f67-b71f-18a225e37202",
   "metadata": {
    "height": 30
   },
   "outputs": [],
   "source": []
  },
  {
   "cell_type": "code",
   "execution_count": null,
   "id": "e1c478a9-7bfe-49e2-8a7d-1536271f45a6",
   "metadata": {
    "height": 30
   },
   "outputs": [],
   "source": []
  },
  {
   "cell_type": "code",
   "execution_count": null,
   "id": "0a6d6771-3fad-4f37-9b32-45b36ad85c59",
   "metadata": {
    "height": 30
   },
   "outputs": [],
   "source": []
  },
  {
   "cell_type": "code",
   "execution_count": null,
   "id": "a3629eb3-655d-467a-b413-63f547c2de08",
   "metadata": {
    "height": 30
   },
   "outputs": [],
   "source": []
  },
  {
   "cell_type": "code",
   "execution_count": null,
   "id": "f772f251-2b61-4d10-97c5-61cef9207a76",
   "metadata": {
    "height": 30
   },
   "outputs": [],
   "source": []
  },
  {
   "cell_type": "code",
   "execution_count": null,
   "id": "0de92979-7ac5-4a7c-91c1-10806b7d529c",
   "metadata": {
    "height": 30
   },
   "outputs": [],
   "source": []
  },
  {
   "cell_type": "code",
   "execution_count": null,
   "id": "479c4325-f625-4bbf-9d74-cc58f10763f2",
   "metadata": {
    "height": 30
   },
   "outputs": [],
   "source": []
  },
  {
   "cell_type": "code",
   "execution_count": null,
   "id": "c4070be7-72da-42f9-a25d-8a6c628788b8",
   "metadata": {
    "height": 30
   },
   "outputs": [],
   "source": []
  },
  {
   "cell_type": "code",
   "execution_count": null,
   "id": "9289efbe-7033-4f32-8482-2039c5f9db90",
   "metadata": {
    "height": 30
   },
   "outputs": [],
   "source": []
  },
  {
   "cell_type": "code",
   "execution_count": null,
   "id": "25e480bb-22ab-4acb-a42c-71da3d04a5b1",
   "metadata": {
    "height": 30
   },
   "outputs": [],
   "source": []
  },
  {
   "cell_type": "code",
   "execution_count": null,
   "id": "90dea35c-7483-4b3d-b5e3-76eb3a0fe536",
   "metadata": {
    "height": 30
   },
   "outputs": [],
   "source": []
  },
  {
   "cell_type": "code",
   "execution_count": null,
   "id": "e9ac5730-a9d5-4ea4-8546-ebcb265cf1da",
   "metadata": {
    "height": 30
   },
   "outputs": [],
   "source": []
  },
  {
   "cell_type": "code",
   "execution_count": null,
   "id": "96e1f28b-46d8-4bcd-b2e4-730376ee7ccf",
   "metadata": {
    "height": 30
   },
   "outputs": [],
   "source": []
  },
  {
   "cell_type": "code",
   "execution_count": null,
   "id": "22ac7020-b4f4-4bd2-a875-ccee93f83d83",
   "metadata": {
    "height": 30
   },
   "outputs": [],
   "source": []
  },
  {
   "cell_type": "code",
   "execution_count": null,
   "id": "61f79eb9-d1c9-44b0-9efd-a8f9b380332a",
   "metadata": {
    "height": 30
   },
   "outputs": [],
   "source": []
  },
  {
   "cell_type": "code",
   "execution_count": null,
   "id": "ce509206-bde1-43e4-a88f-8a565539d357",
   "metadata": {
    "height": 30
   },
   "outputs": [],
   "source": []
  },
  {
   "cell_type": "code",
   "execution_count": null,
   "id": "bdba1590-9e7b-4c0f-9492-81a07d286c55",
   "metadata": {
    "height": 30
   },
   "outputs": [],
   "source": []
  },
  {
   "cell_type": "code",
   "execution_count": null,
   "id": "aa8fe4a8-5372-479d-b248-af7a295c86c1",
   "metadata": {
    "height": 30
   },
   "outputs": [],
   "source": []
  },
  {
   "cell_type": "code",
   "execution_count": null,
   "id": "7514720a-14bc-4552-ade5-fa03f86f4c73",
   "metadata": {
    "height": 30
   },
   "outputs": [],
   "source": []
  }
 ],
 "metadata": {
  "kernelspec": {
   "display_name": "yolo",
   "language": "python",
   "name": "python3"
  },
  "language_info": {
   "codemirror_mode": {
    "name": "ipython",
    "version": 3
   },
   "file_extension": ".py",
   "mimetype": "text/x-python",
   "name": "python",
   "nbconvert_exporter": "python",
   "pygments_lexer": "ipython3",
   "version": "3.10.16"
  }
 },
 "nbformat": 4,
 "nbformat_minor": 5
}
